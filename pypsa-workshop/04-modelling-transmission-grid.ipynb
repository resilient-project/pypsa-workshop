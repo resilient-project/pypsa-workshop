{
 "cells": [
  {
   "cell_type": "markdown",
   "id": "bd1a5409",
   "metadata": {},
   "source": [
    "# Modelling the transmission grid in PyPSA-Eur"
   ]
  },
  {
   "cell_type": "markdown",
   "id": "0b201bb2",
   "metadata": {},
   "source": [
    ":::{note}\n",
    "If you have not yet set up Python on your computer, you can execute this tutorial in your browser via [Google Colab](https://colab.research.google.com/). Click on the rocket in the top right corner and launch \"Colab\". If that doesn't work download the `.ipynb` file and import it in [Google Colab](https://colab.research.google.com/).\n",
    "\n",
    "Then install the following packages by executing the following command in a Jupyter cell at the top of the notebook.\n",
    "\n",
    "```sh\n",
    "!pip install geopandas pypsa numpy shapely\n",
    "```\n",
    ":::"
   ]
  },
  {
   "cell_type": "markdown",
   "id": "0e6f287b",
   "metadata": {},
   "source": [
    "**In this notebook, we present and explore how the high-voltage electricity grid (AC 220 kV to 750 kV, all HVDC lines) are modelled in PyPSA-Eur.**"
   ]
  },
  {
   "cell_type": "markdown",
   "id": "bb705e92",
   "metadata": {},
   "source": [
    "## Background"
   ]
  },
  {
   "cell_type": "markdown",
   "id": "7a28b1b5",
   "metadata": {},
   "source": [
    "### Motivation"
   ]
  },
  {
   "cell_type": "markdown",
   "id": "78b47ee2",
   "metadata": {},
   "source": [
    "* Conclusions drawn from energy system models only as good as underlying data and assumptions\n",
    "* Modelling existing infrastructure is essential\n",
    "* Geotagged, high-voltage electricity grid data not officially available to the public\n",
    "* [ENTSO-E](https://www.entsoe.eu/data/map/) and some TSOs do provide public data in form of online maps or simplified datasets, however each come with own limitations (e.g. stylised geographic information), no open licence, potentially outdated\n",
    "* Notable projects and datasets modelling the high-voltage grid in Europe include (alphabetical order):\n",
    "  * [50Hertz Static Grid Model](#references)\n",
    "  * [ELMOD](#references)\n",
    "  * [ELMOD-DE](#references)\n",
    "  * [Hutcheon & Bialek](#references)\n",
    "  * [Jao Static Grid Model (no geospatial information)](#references)\n",
    "  * [PyPSA-Eur (previously based on ENTSO-E online map)](#references)\n",
    "  * [osmTGmod](#references)\n",
    "  * [SciGrid (Power)](#references)"
   ]
  },
  {
   "cell_type": "markdown",
   "id": "64f0ebf9",
   "metadata": {},
   "source": [
    "### Benefits of our implementation"
   ]
  },
  {
   "cell_type": "markdown",
   "id": "45008aeb",
   "metadata": {},
   "source": [
    "* Reconstruction of the European high-voltage grid based on entirely public data\n",
    "* Clear licensing Open Data Commons Open Database (ODbL 1.0)\n",
    "* Always up to date and easy to maintain by accessing the OpenStreetMap Overpass turbo API\n",
    "* Open (.csv) file format and standardised parameters, allows use outside of PyPSA-Eur\n",
    "* Transparent, easy-to-reproduce workflow\n",
    "* Compatibility with other PyPSA and PyPSA-Eur functions such as Dynamic Line Rating, enabling planned transmission projects (TYNDP, NEP)\n",
    "* All exact geometries and unique OSM ids are preserved. For example, a component with the identifier [relation/16213216](https://www.openstreetmap.org/relation/16213216) can be accessed via https://www.openstreetmap.org/relation/16213216"
   ]
  },
  {
   "cell_type": "markdown",
   "id": "75674014",
   "metadata": {},
   "source": [
    "## Reconstructing the European high-voltage grid from OpenStreetMap"
   ]
  },
  {
   "cell_type": "markdown",
   "id": "b5abbbfc",
   "metadata": {},
   "source": [
    "The following section gives an overview of how a PyPSA-ready grid dataset is created from OpenStreetMap data. You can read the open-access **full paper** here:\n",
    "\n",
    "Xiong, B., Fioriti, D., Neumann, F., Riepin, I., Brown, T. **Modelling the high-voltage grid using open data for Europe and beyond.** Sci Data 12, 277. https://doi.org/10.1038/s41597-025-04550-7 (2025). https://www.nature.com/articles/s41597-025-04550-7"
   ]
  },
  {
   "cell_type": "markdown",
   "id": "a4d7d881",
   "metadata": {},
   "source": [
    "### Overview"
   ]
  },
  {
   "cell_type": "markdown",
   "id": "7492b9af",
   "metadata": {},
   "source": [
    "Map of the OSM-based European high-voltage grid. Map generated using prebuilt network published on [Zenodo](#references).\n",
    "\n",
    "<img src=\"https://media.springernature.com/full/springer-static/image/art%3A10.1038%2Fs41597-025-04550-7/MediaObjects/41597_2025_4550_Fig6_HTML.png\" width=\"500px\" />"
   ]
  },
  {
   "cell_type": "markdown",
   "id": "8cc6ea65",
   "metadata": {},
   "source": [
    "### Process diagram"
   ]
  },
  {
   "cell_type": "markdown",
   "id": "3c1a9665",
   "metadata": {},
   "source": [
    "**Process diagram** depicting the creation of the European high-voltage grid from OSM data, implemented through individual [Snakemake rules](#references).\n",
    "\n",
    "<img src=\"https://media.springernature.com/full/springer-static/image/art%3A10.1038%2Fs41597-025-04550-7/MediaObjects/41597_2025_4550_Fig1_HTML.png\" alt=\"Process diagram: Snakemake\" width=\"700px\" />"
   ]
  },
  {
   "cell_type": "markdown",
   "id": "28244628",
   "metadata": {},
   "source": [
    "In **Step 3**, a topologically and electrically network is then built using a sequence of sub-processes.\n"
   ]
  },
  {
   "cell_type": "markdown",
   "id": "e092c768",
   "metadata": {},
   "source": [
    "<img src=\"https://media.springernature.com/full/springer-static/image/art%3A10.1038%2Fs41597-025-04550-7/MediaObjects/41597_2025_4550_Fig4_HTML.png\" alt=\"Process diagram: Schematic\" width=\"700px\">"
   ]
  },
  {
   "cell_type": "markdown",
   "id": "eb80c0b0",
   "metadata": {},
   "source": [
    "### Bus clustering\n",
    "**Example of bus clustering.** The darkred shape represents the union of the buffer around virtual buses and an original OSM substation polygon (yellow). The bright red dot represents the internal point of the union, this point sets the geographic coordinates of the obtained bus. Lines and cables are connected to the respective voltage level within the substation, transformers are added to connect buses of different voltage levels.\n",
    "\n",
    "<img src=\"https://media.springernature.com/full/springer-static/image/art%3A10.1038%2Fs41597-025-04550-7/MediaObjects/41597_2025_4550_Fig5_HTML.png\" alt=\"Bus clustering\" width=\"700px\"/>"
   ]
  },
  {
   "cell_type": "markdown",
   "id": "26e8281b",
   "metadata": {},
   "source": [
    "### Validation and metrics"
   ]
  },
  {
   "cell_type": "markdown",
   "id": "6518f6a1",
   "metadata": {},
   "source": [
    "**Comparing the OSM-based grid to ENTSO-map**.\n",
    "\n",
    "Based on ENTSO-E’s 2023 inventory of transmission, we compare the total route (a) and circuit lengths (b) of AC lines and cables on a per country level. We find that our transmission grid based on OSM data is in agreement with the ENTSO-E inventory. Calculating the Pearson correlation coefficient for both route and circuit lengths between the official statistics and the respective transmission grid representations, we see an overall improvement from the ENTSO-E map ($\\rho_{routes}=0.9489$ and $\\rho_{circuits}=0.9862$) to OSM ($\\rho_{routes}=0.9575$ and $\\rho_{circuits}=0.9980$) in the reproduction of the high-voltage grid (220 to 750 kV). One of the key reasons for these improvements is the much higher level of geographic detail of lines and cables in the OSM-based transmission grid compared to the stylised lines on ENTSO-E’s interactive map. We observe larger discrepancies for Sweden, where both transmission grid representations seem to overestimate the total lengths of the inventory.\n",
    "\n",
    "<img src=\"https://media.springernature.com/full/springer-static/image/art%3A10.1038%2Fs41597-025-04550-7/MediaObjects/41597_2025_4550_Fig7_HTML.png\" alt=\"Comparison of route and circuit lengths\" width=\"700px\"/>"
   ]
  },
  {
   "cell_type": "markdown",
   "id": "c02b5b8f",
   "metadata": {},
   "source": [
    "**Weighted degree distribution** before and after clustering (NUTS2).\n",
    "\n",
    "We weight the degree by the number of parallel circuits to account for potential different representations of lines and links connecting the same two buses (e.g., single lines with multiple number of circuits or multiple lines with single circuits).\n",
    "\n",
    "<img src=\"https://media.springernature.com/full/springer-static/image/art%3A10.1038%2Fs41597-025-04550-7/MediaObjects/41597_2025_4550_Fig9_HTML.png\" alt=\"WEighted degree distribution\" width=\"700px\"/>"
   ]
  },
  {
   "cell_type": "markdown",
   "id": "a2f16e4f",
   "metadata": {},
   "source": [
    "**Comparison with public, geocoded 50Hertz static grid model**.\n",
    "\n",
    "Comparison of AC line/cable resistance and reactance between the OSM-based transmission grid and reference 50Hertz static grid model. $n_{osm}$ and $n_{sgm}$ refer to the number of parallel circuits for a distinct line in each network, while $\\Delta i_{nom}$ refers to the relative change in underlying nominal current.\n",
    "\n",
    "<img src=\"https://media.springernature.com/full/springer-static/image/art%3A10.1038%2Fs41597-025-04550-7/MediaObjects/41597_2025_4550_Fig18_HTML.png\" alt=\"Metric comparison\" width=\"700px\">"
   ]
  },
  {
   "cell_type": "markdown",
   "id": "f39b9c48",
   "metadata": {},
   "source": [
    "\n",
    "<img src=\"https://media.springernature.com/full/springer-static/image/art%3A10.1038%2Fs41597-025-04550-7/MediaObjects/41597_2025_4550_Fig17_HTML.png\" alt=\"Comparison with 50Hertz SGM\" width=\"700px\"/>"
   ]
  },
  {
   "cell_type": "markdown",
   "id": "e06fb8a8",
   "metadata": {},
   "source": [
    "## Exploring the data (base network)"
   ]
  },
  {
   "cell_type": "markdown",
   "id": "8e18f2bc",
   "metadata": {},
   "source": [
    "This is an interactive part of the workshop, you can follow the live demonstration or try out the notebook yourself.\n",
    "\n",
    "First, we need to import `geopandas`, `folium`, and `pypsa`."
   ]
  },
  {
   "cell_type": "code",
   "execution_count": null,
   "id": "62e5e094",
   "metadata": {},
   "outputs": [],
   "source": [
    "import geopandas as gpd\n",
    "import numpy as np\n",
    "import pypsa\n",
    "import requests"
   ]
  },
  {
   "cell_type": "markdown",
   "id": "3d5ea6ea",
   "metadata": {},
   "source": [
    "Let's import the base network created from the above workflow."
   ]
  },
  {
   "cell_type": "code",
   "execution_count": null,
   "id": "2cffcbc9",
   "metadata": {},
   "outputs": [],
   "source": [
    "resources = \"https://raw.githubusercontent.com/resilient-project/pypsa-workshop/main/pypsa-workshop/resources/\""
   ]
  },
  {
   "cell_type": "markdown",
   "id": "f77b8551",
   "metadata": {},
   "source": [
    "To enable execution from Google Colab, we use requests to retrieve the network file. This detour is normally not needed for offline use."
   ]
  },
  {
   "cell_type": "code",
   "execution_count": null,
   "id": "fe6edac2",
   "metadata": {},
   "outputs": [],
   "source": [
    "network = \"base.nc\"\n",
    "with open(network, \"wb\") as f:\n",
    "    url = resources + network\n",
    "    response = requests.get(url)\n",
    "    f.write(response.content)"
   ]
  },
  {
   "cell_type": "code",
   "execution_count": null,
   "id": "0a047401",
   "metadata": {},
   "outputs": [],
   "source": [
    "n = pypsa.Network(network)"
   ]
  },
  {
   "cell_type": "markdown",
   "id": "253e04b5",
   "metadata": {},
   "source": [
    "PyPSA calculates the line parameters just before the model is solved. If we want to see the underlying impedance $r$, reactance $x$, and susceptance $b$, we can trigger the calculation, manually."
   ]
  },
  {
   "cell_type": "code",
   "execution_count": null,
   "id": "050a7b02",
   "metadata": {},
   "outputs": [],
   "source": [
    "n.calculate_dependent_values()\n",
    "n.lines[\"i_nom\"] = (\n",
    "    (n.lines.s_nom / n.lines.v_nom / n.lines.num_parallel).div(np.sqrt(3)).round(3)\n",
    ")  # kA"
   ]
  },
  {
   "cell_type": "markdown",
   "id": "3172a12e",
   "metadata": {},
   "source": [
    "So how did this work? Underneath, PyPSA maps each line to a library of built-in standard line types to obtain per line type, per km values."
   ]
  },
  {
   "cell_type": "code",
   "execution_count": null,
   "id": "08768a0a",
   "metadata": {},
   "outputs": [],
   "source": [
    "print(n.line_types.head())\n",
    "print(\"\\nAC line types in the base network:\")\n",
    "print(f\"AC Line types: {sorted(n.lines.type.unique())}\")"
   ]
  },
  {
   "cell_type": "markdown",
   "id": "6961cac8",
   "metadata": {},
   "source": [
    "We import a helper function to visualise the detailed network, interactively. Note that you do not need to understand the function `create_geometries()`. It is only needed to create shapely geometries from the network data."
   ]
  },
  {
   "cell_type": "code",
   "execution_count": null,
   "id": "dcc1acdd",
   "metadata": {},
   "outputs": [],
   "source": [
    "def create_geometries(network):\n",
    "    \"\"\"\n",
    "    Create GeoDataFrames for different network components with specified coordinate reference system (CRS).\n",
    "\n",
    "    Parameters\n",
    "    ----------\n",
    "        network (PyPSA Network): The network object containing buses, lines, links, converters, and transformers data.\n",
    "        is_converter (bool): Boolean that specifies if link element is a converter.\n",
    "        crs (str, optional): Coordinate reference system to be used for the GeoDataFrames. Defaults to GEO_CRS.\n",
    "\n",
    "    Returns\n",
    "    -------\n",
    "    tuple: A tuple containing the following GeoDataFrames:\n",
    "        - buses (GeoDataFrame): GeoDataFrame containing bus data with geometries.\n",
    "        - lines (GeoDataFrame): GeoDataFrame containing line data with geometries.\n",
    "        - links (GeoDataFrame): GeoDataFrame containing link data with geometries.\n",
    "        - converters (GeoDataFrame): GeoDataFrame containing converter data with geometries.\n",
    "        - transformers (GeoDataFrame): GeoDataFrame containing transformer data with geometries.\n",
    "    \"\"\"\n",
    "    import geopandas as gpd\n",
    "    from shapely.wkt import loads\n",
    "\n",
    "    crs = network.crs\n",
    "\n",
    "    network.buses[\"dc\"] = network.buses[\"carrier\"].map({\"DC\": \"t\", \"AC\": \"f\"})\n",
    "    buses = network.buses.reset_index()[\n",
    "        [\n",
    "            \"Bus\",\n",
    "            \"v_nom\",\n",
    "            \"dc\",\n",
    "            \"symbol\",\n",
    "            \"under_construction\",\n",
    "            \"tags\",\n",
    "            \"geometry\",\n",
    "        ]\n",
    "    ]\n",
    "    buses[\"geometry\"] = buses.geometry.apply(lambda x: loads(x))\n",
    "    buses = gpd.GeoDataFrame(buses, geometry=\"geometry\", crs=crs)\n",
    "\n",
    "    lines = network.lines.reset_index()[\n",
    "        [\n",
    "            \"Line\",\n",
    "            \"bus0\",\n",
    "            \"bus1\",\n",
    "            \"v_nom\",\n",
    "            \"i_nom\",\n",
    "            \"num_parallel\",\n",
    "            \"s_nom\",\n",
    "            \"r\",\n",
    "            \"x\",\n",
    "            \"b\",\n",
    "            \"length\",\n",
    "            \"underground\",\n",
    "            \"under_construction\",\n",
    "            \"type\",\n",
    "            \"tags\",\n",
    "            \"geometry\",\n",
    "        ]\n",
    "    ]\n",
    "    # Create shapely linestring from geometry column\n",
    "    lines[\"geometry\"] = lines.geometry.apply(lambda x: loads(x))\n",
    "    lines = gpd.GeoDataFrame(lines, geometry=\"geometry\", crs=crs)\n",
    "\n",
    "    is_converter = network.links.index.str.startswith(\"conv\")\n",
    "    links = (\n",
    "        network.links[~is_converter]\n",
    "        .reset_index()\n",
    "        .rename(columns={\"voltage\": \"v_nom\"})[\n",
    "            [\n",
    "                \"Link\",\n",
    "                \"bus0\",\n",
    "                \"bus1\",\n",
    "                \"v_nom\",\n",
    "                \"p_nom\",\n",
    "                \"length\",\n",
    "                \"underground\",\n",
    "                \"under_construction\",\n",
    "                \"tags\",\n",
    "                \"geometry\",\n",
    "            ]\n",
    "        ]\n",
    "    )\n",
    "    links[\"geometry\"] = links.geometry.apply(lambda x: loads(x))\n",
    "    links = gpd.GeoDataFrame(links, geometry=\"geometry\", crs=crs)\n",
    "\n",
    "    converters = (\n",
    "        network.links[is_converter]\n",
    "        .reset_index()\n",
    "        .rename(columns={\"voltage\": \"v_nom\"})[\n",
    "            [\n",
    "                \"Link\",\n",
    "                \"bus0\",\n",
    "                \"bus1\",\n",
    "                \"v_nom\",\n",
    "                \"p_nom\",\n",
    "                \"geometry\",\n",
    "            ]\n",
    "        ]\n",
    "    )\n",
    "    converters[\"geometry\"] = converters.geometry.apply(lambda x: loads(x))\n",
    "    converters = gpd.GeoDataFrame(converters, geometry=\"geometry\", crs=crs)\n",
    "\n",
    "    transformers = network.transformers.reset_index()[\n",
    "        [\n",
    "            \"Transformer\",\n",
    "            \"bus0\",\n",
    "            \"bus1\",\n",
    "            \"voltage_bus0\",\n",
    "            \"voltage_bus1\",\n",
    "            \"s_nom\",\n",
    "            \"geometry\",\n",
    "        ]\n",
    "    ]\n",
    "    transformers[\"geometry\"] = transformers.geometry.apply(lambda x: loads(x))\n",
    "    transformers = gpd.GeoDataFrame(transformers, geometry=\"geometry\", crs=crs)\n",
    "\n",
    "    return buses, lines, links, converters, transformers"
   ]
  },
  {
   "cell_type": "markdown",
   "id": "25b6c404",
   "metadata": {},
   "source": [
    "... and apply the function to the network:"
   ]
  },
  {
   "cell_type": "code",
   "execution_count": null,
   "id": "1311942f",
   "metadata": {},
   "outputs": [],
   "source": [
    "buses, lines, links, converters, transformers = create_geometries(n)"
   ]
  },
  {
   "cell_type": "markdown",
   "id": "2d45a5e7",
   "metadata": {},
   "source": [
    "### Interactive map"
   ]
  },
  {
   "cell_type": "markdown",
   "id": "20692313",
   "metadata": {},
   "source": [
    "Using the PyPSA base network, let's create an **interactive map**. To help visualise the underlying input data, we also import the cleaned substations."
   ]
  },
  {
   "cell_type": "code",
   "execution_count": null,
   "id": "32a62614",
   "metadata": {},
   "outputs": [],
   "source": [
    "stations_polygon = gpd.read_file(resources + \"stations_polygon.geojson\")\n",
    "buses_polygon = gpd.read_file(resources + \"buses_polygon.geojson\")"
   ]
  },
  {
   "cell_type": "markdown",
   "id": "0cbe0003",
   "metadata": {},
   "source": [
    "Stacking everything together on a single folium map..."
   ]
  },
  {
   "cell_type": "code",
   "execution_count": null,
   "id": "97110538",
   "metadata": {},
   "outputs": [],
   "source": [
    "map = None\n",
    "b_popup = True\n",
    "\n",
    "map = stations_polygon.explore(color=\"yellow\", popup=b_popup)\n",
    "map = buses_polygon.query(\"dc == False\").explore(color=\"red\", popup=b_popup, m=map)\n",
    "map = buses_polygon.query(\"dc == True\").explore(color=\"purple\", popup=b_popup, m=map)\n",
    "map = lines.query(\"v_nom <= 230\").explore(color=\"green\", popup=b_popup, m=map)\n",
    "map = lines.query(\"(v_nom > 230) & (v_nom <= 330)\").explore(\n",
    "    color=\"orange\", popup=b_popup, m=map\n",
    ")\n",
    "map = lines.query(\"(v_nom > 330) & (v_nom <= 420)\").explore(\n",
    "    color=\"darkred\", popup=b_popup, m=map\n",
    ")\n",
    "map = lines.query(\"v_nom > 420\").explore(color=\"pink\", popup=b_popup, m=map)\n",
    "map = links.explore(color=\"purple\", popup=b_popup, m=map)\n",
    "map = converters.explore(color=\"black\", popup=b_popup, m=map)\n",
    "map = transformers.explore(color=\"pink\", popup=b_popup, m=map)"
   ]
  },
  {
   "cell_type": "markdown",
   "id": "17ebda98",
   "metadata": {},
   "source": [
    "How about locating the [\"Kabeldiagonale\"](https://www.50hertz.com/de/Netz/Netzausbau/ProjekteanLand/BerlinerProjekte/KabeldiagonaleBerlin/) in Berlin?"
   ]
  },
  {
   "cell_type": "code",
   "execution_count": null,
   "id": "77db180a",
   "metadata": {},
   "outputs": [],
   "source": [
    "map"
   ]
  },
  {
   "cell_type": "markdown",
   "id": "af4bad01",
   "metadata": {},
   "source": [
    "**Questions**\n",
    "1. What are its attributes ($i_{nom}^{max}$, $v_{nom}$, and $s_{nom}^{max}$)? \n",
    "2. How many circuits does it have?\n",
    "3. How long is the longest section within Berlin?\n",
    "4. What are the names of the two substations connected to this section?"
   ]
  },
  {
   "cell_type": "markdown",
   "id": "fdf2b31a",
   "metadata": {},
   "source": [
    "Alternatively, the PyPSA framework has a built-in `n.explore()` function based on folium and geopandas."
   ]
  },
  {
   "cell_type": "code",
   "execution_count": null,
   "id": "ae81e5e8",
   "metadata": {},
   "outputs": [],
   "source": [
    "components = [\"Line\", \"Link\"]\n",
    "n.explore(components=components)"
   ]
  },
  {
   "cell_type": "markdown",
   "id": "6e37b0e9",
   "metadata": {},
   "source": [
    "## References"
   ]
  },
  {
   "cell_type": "markdown",
   "id": "1ac1ab13",
   "metadata": {},
   "source": [
    "* 50Hertz. **Static grid model**. https://www.50hertz.com/Transparency/GridData/Gridfigures/Staticgridmodel/ (2022).\n",
    "* Egerer, J. et al. **Electricity sector data for policy-relevant modeling: Data documentation and applications to the German and European electricity markets**. Research Report 72, DIW Data Documentation (2014).\n",
    "* Egerer, J. **Open Source Electricity Model for Germany (ELMOD-DE)**. Data Documentation (2016).\n",
    "* JAO. **Static Grid Model**. https://www.jao.eu/static-grid-model (2023).\n",
    "* Hörsch, J., Hofmann, F., Schlachtberger, D. & Brown, T. **PyPSA-Eur: An open optimisation model of the European transmission system**. Energy Strategy Reviews 22, 207–215, https://doi.org/10.1016/j.esr.2018.08.012 (2018).\n",
    "* Hutcheon, N. & Bialek, J. W. **Updated and validated power flow model of the main continental European transmission network**. In 2013 IEEE Grenoble Conference, 1–5, https://doi.org/10.1109/PTC.2013.6652178 (2013).\n",
    "* Medjroubi, W., Müller, U. P., Scharf, M., Matke, C. & Kleinhans, D. **Open Data in Power Grid Modelling: New Approaches Towards Transparent Grid Models**. Energy Reports 3, 14–21, https://doi.org/10.1016/j.egyr.2016.12.001 (2017).\n",
    "* Mölder, F. et al. **Sustainable data analysis with Snakemake**. https://doi.org/10.12688/f1000research.29032.2 (2021).\n",
    "* **OSMTGmod Documentation** 0.1.0. https://github.com/wupperinst/osmTGmod/blob/master/osmTGmod_documentation_0.1.0.pdf (2017).\n",
    "* Xiong, B., Fioriti, D., Neumann, F., Riepin, I., Brown, T. **Modelling the high-voltage grid using open data for Europe and beyond.** Sci Data 12, 277. https://doi.org/10.1038/s41597-025-04550-7 (2025).\n",
    "* Xiong, B., Fioriti, D., Neumann, F., Riepin, I., Brown, T. **Prebuilt Electricity Network for PyPSA-Eur based on OpenStreetMap Data (0.6) [Data set].** Zenodo. https://doi.org/10.5281/zenodo.14144752 (2024)."
   ]
  }
 ],
 "metadata": {
  "kernelspec": {
   "display_name": "",
   "language": "python",
   "name": ""
  },
  "language_info": {
   "codemirror_mode": {
    "name": "ipython",
    "version": 3
   },
   "file_extension": ".py",
   "mimetype": "text/x-python",
   "name": "python",
   "nbconvert_exporter": "python",
   "pygments_lexer": "ipython3",
   "version": "3.12.0"
  }
 },
 "nbformat": 4,
 "nbformat_minor": 5
}
