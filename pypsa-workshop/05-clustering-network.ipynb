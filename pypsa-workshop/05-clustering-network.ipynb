{
 "cells": [
  {
   "cell_type": "markdown",
   "id": "bd1a5409",
   "metadata": {},
   "source": [
    "# Clustering the network"
   ]
  },
  {
   "cell_type": "markdown",
   "id": "0b201bb2",
   "metadata": {},
   "source": [
    ":::{note}\n",
    "If you have not yet set up Python on your computer, you can execute this tutorial in your browser via [Google Colab](https://colab.research.google.com/). Click on the rocket in the top right corner and launch \"Colab\". If that doesn't work download the `.ipynb` file and import it in [Google Colab](https://colab.research.google.com/).\n",
    "\n",
    "Then install the following packages by executing the following command in a Jupyter cell at the top of the notebook.\n",
    "\n",
    "```sh\n",
    "!pip install folium geopandas pandas pypsa mapclassify matplotlib numpy shapely\n",
    "```\n",
    ":::"
   ]
  },
  {
   "cell_type": "markdown",
   "id": "06b2ee3a",
   "metadata": {},
   "source": [
    "**In this notebook, we show how both PyPSA and PyPSA-Eur handle spatial clustering of networks.**"
   ]
  },
  {
   "cell_type": "markdown",
   "id": "bb705e92",
   "metadata": {},
   "source": [
    "## Background"
   ]
  },
  {
   "cell_type": "markdown",
   "id": "7a28b1b5",
   "metadata": {},
   "source": [
    "### Motivation"
   ]
  },
  {
   "cell_type": "markdown",
   "id": "78b47ee2",
   "metadata": {},
   "source": [
    "* Base network contains more than 6700 buses, of which around 4900 are based on real OSM substation polygons, 1800 are \"virtual\" buses (the latter needed to model lines that are directly connected to other lines without substations)\n",
    "* Solving an investment and operation model at this regional scale, up to hourly resolution and including sectors beyond electricity is computationally not feasible\n",
    "* Depending on the focus region of interest, both the PyPSA framework and PyPSA-Eur model enable a variety of established clustering algorithms\n",
    "* All components within a bus region will be aggregated and mapped, accordingly"
   ]
  },
  {
   "cell_type": "markdown",
   "id": "64f0ebf9",
   "metadata": {},
   "source": [
    "### Clustering options"
   ]
  },
  {
   "cell_type": "markdown",
   "id": "45008aeb",
   "metadata": {},
   "source": [
    "**PyPSA & PyPSA-Eur**\n",
    "* By total number of regions, i.e.:\n",
    "  * Hierarchical Agglomerative Clustering (HAC)\n",
    "  * K-Means\n",
    "  * Greedy Modularity, see [Frysztacki et al. (2022)](#references)\n",
    "* By custom busmap, i.e., providing a dictionary that maps each individual bus to a bus region/group\n",
    "\n",
    "**PyPSA-Eur**\n",
    "* By administrative regions, i.e. NUTS0-NUTS3 for EU member status and ADM0-ADM1 for non-EU member states."
   ]
  },
  {
   "cell_type": "markdown",
   "id": "5c7a8e7a",
   "metadata": {},
   "source": [
    "Underneath, all clustering methods harness the built-in clustering by busmap. Any clustering method, including HAC, k-means, or by administrative regions, calculates individual busmaps"
   ]
  },
  {
   "cell_type": "markdown",
   "id": "39289130",
   "metadata": {},
   "source": [
    "## Exploring the clustering methods"
   ]
  },
  {
   "cell_type": "markdown",
   "id": "750957ed",
   "metadata": {},
   "source": [
    "For execution of the notebook in Google Colab, comment out and run:"
   ]
  },
  {
   "cell_type": "code",
   "execution_count": null,
   "id": "39088934",
   "metadata": {},
   "outputs": [],
   "source": [
    "# !pip install folium geopandas pandas pypsa mapclassify matplotlib numpy shapely"
   ]
  },
  {
   "cell_type": "markdown",
   "id": "884ed722",
   "metadata": {},
   "source": [
    "Note that in PyPSA-Eur, all of these steps are built into the `cluster_network` Snakemake rule. For illustrative purposes, we go through the underlying functions, step by step in this notebook. First, we import the example PyPSA network file and built-in functions from the PyPSA package."
   ]
  },
  {
   "cell_type": "code",
   "execution_count": null,
   "id": "3265be4f",
   "metadata": {},
   "outputs": [],
   "source": [
    "import pandas as pd\n",
    "import pypsa\n",
    "import requests"
   ]
  },
  {
   "cell_type": "code",
   "execution_count": null,
   "id": "c5276fc7",
   "metadata": {},
   "outputs": [],
   "source": [
    "resources = \"https://raw.githubusercontent.com/resilient-project/pypsa-workshop/main/pypsa-workshop/resources/\""
   ]
  },
  {
   "cell_type": "markdown",
   "id": "b14b6ca4",
   "metadata": {},
   "source": [
    "To enable execution from Google Colab, we use requests to retrieve the network file. This detour is normally not needed for offline use."
   ]
  },
  {
   "cell_type": "code",
   "execution_count": null,
   "id": "b433965b",
   "metadata": {},
   "outputs": [],
   "source": [
    "network = \"base.nc\"\n",
    "with open(network, \"wb\") as f:\n",
    "    url = resources + network\n",
    "    response = requests.get(url)\n",
    "    f.write(response.content)"
   ]
  },
  {
   "cell_type": "code",
   "execution_count": null,
   "id": "fee91a92",
   "metadata": {},
   "outputs": [],
   "source": [
    "n = pypsa.Network(network)"
   ]
  },
  {
   "cell_type": "markdown",
   "id": "aa273cbd",
   "metadata": {},
   "source": [
    "### Clustering by K-Means"
   ]
  },
  {
   "cell_type": "markdown",
   "id": "1fdc976c",
   "metadata": {},
   "source": [
    "In this first example, we make a clustering based on the K-Means algorithm. We prepare a busmap weighting all original buses, equally. We want to cluster Europe to a 150 nodes."
   ]
  },
  {
   "cell_type": "code",
   "execution_count": null,
   "id": "dcd2df0b",
   "metadata": {},
   "outputs": [],
   "source": [
    "weighting = pd.Series(1, n.buses.index)\n",
    "print(weighting.head())"
   ]
  },
  {
   "cell_type": "markdown",
   "id": "a41e4bb7",
   "metadata": {},
   "source": [
    "We use the imported spatial clustering functions to build the K-Means-based busmap."
   ]
  },
  {
   "cell_type": "code",
   "execution_count": null,
   "id": "fe2aae42",
   "metadata": {},
   "outputs": [],
   "source": [
    "busmap_kmeans = n.cluster.busmap_by_kmeans(bus_weightings=weighting, n_clusters=90)"
   ]
  },
  {
   "cell_type": "markdown",
   "id": "0bebde59",
   "metadata": {},
   "source": [
    "Let's double-check if all buses have been mapped correctly in the busmap"
   ]
  },
  {
   "cell_type": "code",
   "execution_count": null,
   "id": "9cc80933",
   "metadata": {},
   "outputs": [],
   "source": [
    "print(busmap_kmeans.head())\n",
    "# Unique reqions\n",
    "print(f\"\\nUnique values/regions: {len(busmap_kmeans.unique())}\")"
   ]
  },
  {
   "cell_type": "markdown",
   "id": "957e584d",
   "metadata": {},
   "source": [
    "Now, use built-in PyPSA functions to cluster the network using the calculated busmap"
   ]
  },
  {
   "cell_type": "code",
   "execution_count": null,
   "id": "f98a821e",
   "metadata": {},
   "outputs": [],
   "source": [
    "nc_kmeans = n.cluster.cluster_by_busmap(busmap_kmeans)"
   ]
  },
  {
   "cell_type": "markdown",
   "id": "b324d54f",
   "metadata": {},
   "source": [
    "What happened? Note that PyPSA by default will throw an error when trying to cluster buses where the `carrier` attribute does not agree. Specifically, AC and DC buses cannot be clustered by default. So let's correct our busmap to keep DC buses separate. Note that PyPSA-Eur has built-in steps to mitigate this. "
   ]
  },
  {
   "cell_type": "code",
   "execution_count": null,
   "id": "ed4d4406",
   "metadata": {},
   "outputs": [],
   "source": [
    "b_dc = n.buses.loc[n.buses.carrier == \"DC\"].index"
   ]
  },
  {
   "cell_type": "markdown",
   "id": "52146fa0",
   "metadata": {},
   "source": [
    "Then we make them unique by giving them an individual suffix."
   ]
  },
  {
   "cell_type": "code",
   "execution_count": null,
   "id": "5e908484",
   "metadata": {},
   "outputs": [],
   "source": [
    "busmap_kmeans.loc[b_dc] = busmap_kmeans.loc[b_dc].astype(str) + \"_DC\""
   ]
  },
  {
   "cell_type": "markdown",
   "id": "c531452b",
   "metadata": {},
   "source": [
    "Now let's try clustering again. Note that our number of unique bus regions has increased from the above operation."
   ]
  },
  {
   "cell_type": "code",
   "execution_count": null,
   "id": "aeac24a6",
   "metadata": {},
   "outputs": [],
   "source": [
    "print(f\"Number of bus regions: {len(busmap_kmeans.unique())}\")"
   ]
  },
  {
   "cell_type": "markdown",
   "id": "9fcea529",
   "metadata": {},
   "source": [
    "PyPSA will go through all attributes of the modelled components and throw an error similar to the above, if the attributes do not agree. For illustrative purposes, we ignore the remaining attributes in this notebook."
   ]
  },
  {
   "cell_type": "code",
   "execution_count": null,
   "id": "5e53fcc7",
   "metadata": {},
   "outputs": [],
   "source": [
    "n.buses = n.buses.reindex(columns=n.components[\"Bus\"][\"attrs\"].index[1:])\n",
    "n.lines = n.lines.reindex(columns=n.components[\"Line\"][\"attrs\"].index[1:])\n",
    "n.lines[\"type\"] = \"Example\""
   ]
  },
  {
   "cell_type": "code",
   "execution_count": null,
   "id": "d1cf774e",
   "metadata": {},
   "outputs": [],
   "source": [
    "nc_kmeans = n.cluster.cluster_by_busmap(busmap_kmeans)"
   ]
  },
  {
   "cell_type": "markdown",
   "id": "c4db883d",
   "metadata": {},
   "source": [
    "Let's explore the clustered network."
   ]
  },
  {
   "cell_type": "code",
   "execution_count": null,
   "id": "a069e9ca",
   "metadata": {},
   "outputs": [],
   "source": [
    "nc_kmeans.plot.explore()"
   ]
  },
  {
   "cell_type": "markdown",
   "id": "9a7bb5f9",
   "metadata": {},
   "source": [
    "... and visualise them side-by-side"
   ]
  },
  {
   "cell_type": "code",
   "execution_count": null,
   "id": "9a4ec73e",
   "metadata": {},
   "outputs": [],
   "source": [
    "import cartopy.crs as ccrs\n",
    "import matplotlib.pyplot as plt\n",
    "\n",
    "fig, (ax, ax1) = plt.subplots(\n",
    "    1, 2, subplot_kw={\"projection\": ccrs.EqualEarth()}, figsize=(12, 12)\n",
    ")\n",
    "plot_kwrgs = dict(bus_sizes=5e-3, line_widths=0.7, link_widths=0.7)\n",
    "n.plot.map(ax=ax, title=\"Original network\", **plot_kwrgs)\n",
    "nc_kmeans.plot.map(ax=ax1, title=\"Clustered network using K-Means\", **plot_kwrgs)\n",
    "fig.tight_layout()"
   ]
  },
  {
   "cell_type": "markdown",
   "id": "f12aa832",
   "metadata": {},
   "source": [
    "### Clustering by bidding zones"
   ]
  },
  {
   "cell_type": "markdown",
   "id": "a80dba3b",
   "metadata": {},
   "source": [
    "First, we import world bidding zones from a public github repository and import it as GeoDataFrame."
   ]
  },
  {
   "cell_type": "code",
   "execution_count": null,
   "id": "9df25766",
   "metadata": {},
   "outputs": [],
   "source": [
    "import geopandas as gpd\n",
    "import numpy as np\n",
    "\n",
    "world_bz = gpd.read_file(\n",
    "    \"https://raw.githubusercontent.com/electricitymaps/electricitymaps-contrib/v1.238.0/web/geo/world.geojson\"\n",
    ")"
   ]
  },
  {
   "cell_type": "markdown",
   "id": "9e68b831",
   "metadata": {},
   "source": [
    "We only need Europe in this example."
   ]
  },
  {
   "cell_type": "code",
   "execution_count": null,
   "id": "89c6938b",
   "metadata": {},
   "outputs": [],
   "source": [
    "countries = [\n",
    "    \"AL\",\n",
    "    \"AT\",\n",
    "    \"BA\",\n",
    "    \"BE\",\n",
    "    \"BG\",\n",
    "    \"CH\",\n",
    "    \"CZ\",\n",
    "    \"DE\",\n",
    "    \"DK\",\n",
    "    \"EE\",\n",
    "    \"ES\",\n",
    "    \"FI\",\n",
    "    \"FR\",\n",
    "    \"GB\",\n",
    "    \"GR\",\n",
    "    \"HR\",\n",
    "    \"HU\",\n",
    "    \"IE\",\n",
    "    \"IT\",\n",
    "    \"LT\",\n",
    "    \"LU\",\n",
    "    \"LV\",\n",
    "    \"ME\",\n",
    "    \"MK\",\n",
    "    \"NL\",\n",
    "    \"NO\",\n",
    "    \"PL\",\n",
    "    \"PT\",\n",
    "    \"RO\",\n",
    "    \"RS\",\n",
    "    \"SE\",\n",
    "    \"SI\",\n",
    "    \"SK\",\n",
    "    \"XK\",\n",
    "]\n",
    "europe_bz = world_bz[world_bz[\"countryKey\"].isin(countries)]\n",
    "\n",
    "# Remove geometries that are south and east of Portugal\n",
    "europe_bz = europe_bz[\n",
    "    (europe_bz.geometry.bounds[\"minx\"] > -12) & (europe_bz.geometry.bounds[\"maxy\"] > 33)\n",
    "]\n",
    "\n",
    "europe_bz.head()"
   ]
  },
  {
   "cell_type": "markdown",
   "id": "7298ca69",
   "metadata": {},
   "source": [
    "Let's store all bidding zones in a variable and give them a random order to prepare for plotting."
   ]
  },
  {
   "cell_type": "code",
   "execution_count": null,
   "id": "6359905d",
   "metadata": {},
   "outputs": [],
   "source": [
    "bidding_zones = europe_bz[\"zoneName\"].unique()\n",
    "np.random.shuffle(bidding_zones)"
   ]
  },
  {
   "cell_type": "code",
   "execution_count": null,
   "id": "595c1d11",
   "metadata": {},
   "outputs": [],
   "source": [
    "import matplotlib.pyplot as plt\n",
    "import matplotlib.colors as mcolors\n",
    "\n",
    "# Map each countrykey to a distinct color from the colormap\n",
    "cmap = plt.colormaps[\"rainbow\"]\n",
    "norm = mcolors.Normalize(vmin=0, vmax=len(bidding_zones) - 1)\n",
    "\n",
    "color_dict = {key: cmap(norm(i)) for i, key in enumerate(bidding_zones)}\n",
    "europe_bz.loc[:, \"color\"] = europe_bz[\"zoneName\"].map(color_dict)\n",
    "europe_bz[\"color\"] = europe_bz[\"color\"].apply(\n",
    "    lambda x: mcolors.to_hex(x)\n",
    ")  # Hex conversion optional\n",
    "\n",
    "europe_bz.plot(color=europe_bz[\"color\"], edgecolor=\"black\")\n",
    "plt.show()"
   ]
  },
  {
   "cell_type": "markdown",
   "id": "35f82d4b",
   "metadata": {},
   "source": [
    "Next, we want to create a custom busmap based on the Polygons contained in the `europe_bz` GeoDataFrame. For this purpose, we create a GDF from n.buses first."
   ]
  },
  {
   "cell_type": "code",
   "execution_count": null,
   "id": "2aa80d36",
   "metadata": {},
   "outputs": [],
   "source": [
    "# Using sjoin_nearest\n",
    "buses = gpd.GeoDataFrame(\n",
    "    n.buses,\n",
    "    geometry=gpd.points_from_xy(n.buses.x, n.buses.y),\n",
    "    crs=\"EPSG:4326\",\n",
    ")"
   ]
  },
  {
   "cell_type": "markdown",
   "id": "059aa343",
   "metadata": {},
   "source": [
    "We convert both GDFs to a distance-based projection."
   ]
  },
  {
   "cell_type": "code",
   "execution_count": null,
   "id": "2a9f95f9",
   "metadata": {},
   "outputs": [],
   "source": [
    "distance_crs = \"EPSG:3857\"\n",
    "buses = buses.to_crs(distance_crs)\n",
    "europe_bz = europe_bz.to_crs(distance_crs)"
   ]
  },
  {
   "cell_type": "markdown",
   "id": "1b9c7406",
   "metadata": {},
   "source": [
    "Now we can use GeoPandas `sjoin_nearest()` function to map each network bus to a corresponding bidding zone."
   ]
  },
  {
   "cell_type": "code",
   "execution_count": null,
   "id": "d6b99481",
   "metadata": {},
   "outputs": [],
   "source": [
    "# Using sjoin_nearest map to europe_bz\n",
    "buses_mapped = gpd.sjoin_nearest(\n",
    "    buses[[\"geometry\"]],\n",
    "    europe_bz[[\"zoneName\", \"geometry\"]],\n",
    "    how=\"left\",\n",
    "    lsuffix=\"bus\",\n",
    "    rsuffix=\"bz\",\n",
    ")\n",
    "\n",
    "busmap_bz = buses_mapped[\"zoneName\"]"
   ]
  },
  {
   "cell_type": "markdown",
   "id": "b680c07a",
   "metadata": {},
   "source": [
    "We use PyPSA's clustering by busmap functionalities again to cluster by our custom busmap. This time, we want all buses to be clustered together, independent of their carrier attribute. AC and DC buses should be mapped to the same geographic regions."
   ]
  },
  {
   "cell_type": "code",
   "execution_count": null,
   "id": "3b0d34f6",
   "metadata": {},
   "outputs": [],
   "source": [
    "n.buses[\"carrier\"] = \"AC\"  # We turn all DC buses into AC\n",
    "\n",
    "nc_bz = n.cluster.cluster_by_busmap(busmap_bz)"
   ]
  },
  {
   "cell_type": "markdown",
   "id": "8c6c674e",
   "metadata": {},
   "source": [
    "Again, we compare them side-by-side:"
   ]
  },
  {
   "cell_type": "code",
   "execution_count": null,
   "id": "fed98016",
   "metadata": {},
   "outputs": [],
   "source": [
    "# set bounds\n",
    "europe_bz_latlon = europe_bz.to_crs(epsg=4326)\n",
    "bounds = europe_bz_latlon.total_bounds  # returns [minx, miny, maxx, maxy]\n",
    "\n",
    "fig, (ax, ax1) = plt.subplots(\n",
    "    1, 2, subplot_kw={\"projection\": ccrs.EqualEarth()}, figsize=(12, 12)\n",
    ")\n",
    "\n",
    "plot_kwrgs = dict(bus_sizes=5e-3, line_widths=0.7, link_widths=0.7)\n",
    "n.plot(ax=ax, title=\"Original network\", **plot_kwrgs)\n",
    "\n",
    "# Adding the bidding zones\n",
    "europe_bz.to_crs(epsg=8857).plot(ax=ax, color=europe_bz[\"color\"], alpha=0.3)\n",
    "europe_bz.to_crs(epsg=8857).plot(ax=ax1, color=europe_bz[\"color\"], alpha=0.3)\n",
    "nc_bz.plot(ax=ax1, title=\"Network clustered by bidding zones\", **plot_kwrgs)\n",
    "\n",
    "ax.set_extent([bounds[0], bounds[2], bounds[1], bounds[3]], crs=ccrs.PlateCarree())\n",
    "ax1.set_extent([bounds[0], bounds[2], bounds[1], bounds[3]], crs=ccrs.PlateCarree())\n",
    "\n",
    "fig.tight_layout()"
   ]
  },
  {
   "cell_type": "markdown",
   "id": "9cbbb026",
   "metadata": {},
   "source": [
    "### Clustering by administrative regions"
   ]
  },
  {
   "cell_type": "markdown",
   "id": "395627c1",
   "metadata": {},
   "source": [
    "PyPSA-Eur has a built-in function to set administrative clustering level for each country, individually. To get the clustered network below, set:\n",
    "\n",
    "`config.yaml`\n",
    "\n",
    "```\n",
    "scenario:\n",
    "  clusters:\n",
    "  - adm\n",
    "\n",
    "clustering:\n",
    "  mode: administrative\n",
    "  administrative:\n",
    "    level: 0\n",
    "    DE: 1\n",
    "    BE: 1\n",
    "    AT: 1\n",
    "    CH: 2\n",
    "```"
   ]
  },
  {
   "cell_type": "markdown",
   "id": "25eefa6b",
   "metadata": {},
   "source": [
    "We import the network and administrative shape file for illustrative purposes"
   ]
  },
  {
   "cell_type": "code",
   "execution_count": null,
   "id": "e880b3e7",
   "metadata": {},
   "outputs": [],
   "source": [
    "network_adm = \"base_s_adm_elec_.nc\"\n",
    "with open(network_adm, \"wb\") as f:\n",
    "    url = resources + network_adm\n",
    "    response = requests.get(url)\n",
    "    f.write(response.content)"
   ]
  },
  {
   "cell_type": "code",
   "execution_count": null,
   "id": "b51468b8",
   "metadata": {},
   "outputs": [],
   "source": [
    "nc_adm = pypsa.Network(network_adm)\n",
    "admin_shapes = gpd.read_file(resources + \"admin_shapes.geojson\")"
   ]
  },
  {
   "cell_type": "code",
   "execution_count": null,
   "id": "6d75301c",
   "metadata": {},
   "outputs": [],
   "source": [
    "# set bounds\n",
    "bounds = admin_shapes.total_bounds  # returns [minx, miny, maxx, maxy]\n",
    "\n",
    "fig, (ax, ax1) = plt.subplots(\n",
    "    1, 2, subplot_kw={\"projection\": ccrs.EqualEarth()}, figsize=(12, 12)\n",
    ")\n",
    "\n",
    "plot_kwrgs = dict(bus_sizes=5e-3, line_widths=0.7, link_widths=0.7)\n",
    "n.plot.map(ax=ax, title=\"Original network\", **plot_kwrgs)\n",
    "\n",
    "# Adding the bidding zones\n",
    "admin_shapes.to_crs(epsg=8857).plot(ax=ax, alpha=0.1, edgecolor=\"black\")\n",
    "admin_shapes.to_crs(epsg=8857).plot(ax=ax1, alpha=0.1, edgecolor=\"black\")\n",
    "nc_adm.plot.map(ax=ax1, title=\"Network clustered by NUTS regions\", **plot_kwrgs)\n",
    "\n",
    "ax.set_extent([bounds[0], bounds[2], bounds[1], bounds[3]], crs=ccrs.PlateCarree())\n",
    "ax1.set_extent([bounds[0], bounds[2], bounds[1], bounds[3]], crs=ccrs.PlateCarree())\n",
    "\n",
    "fig.tight_layout()"
   ]
  },
  {
   "cell_type": "markdown",
   "id": "34b1bfd8",
   "metadata": {},
   "source": [
    "As this is a solved network, we can also inspect solutions for each individual NUTS region by their unique identifier, e.g."
   ]
  },
  {
   "cell_type": "code",
   "execution_count": null,
   "id": "c14f450c",
   "metadata": {},
   "outputs": [],
   "source": [
    "nc_adm.statistics.energy_balance(\n",
    "    groupby=\"bus\", comps=[\"Generator\", \"Load\", \"Link\", \"Line\", \"Store\", \"StorageUnit\"]\n",
    ").filter(like=\"DE\").unstack().T.plot(kind=\"bar\", stacked=True)"
   ]
  },
  {
   "cell_type": "markdown",
   "id": "6e37b0e9",
   "metadata": {},
   "source": [
    "## References"
   ]
  },
  {
   "cell_type": "markdown",
   "id": "1ac1ab13",
   "metadata": {},
   "source": [
    "* Frysztacki, M.M., Recht, G. & Brown, T. **A comparison of clustering methods for the spatial reduction of renewable electricity optimisation models of Europe**. Energy Inform 5, 4. https://doi.org/10.1186/s42162-022-00187-7 (2022).\n",
    "* Hörsch, J., Hofmann, F., Schlachtberger, D. & Brown, T. **PyPSA-Eur: An open optimisation model of the European transmission system**. Energy Strategy Reviews 22, 207–215, https://doi.org/10.1016/j.esr.2018.08.012 (2018)."
   ]
  }
 ],
 "metadata": {
  "kernelspec": {
   "display_name": "",
   "language": "python",
   "name": ""
  },
  "language_info": {
   "codemirror_mode": {
    "name": "ipython",
    "version": 3
   },
   "file_extension": ".py",
   "mimetype": "text/x-python",
   "name": "python",
   "nbconvert_exporter": "python",
   "pygments_lexer": "ipython3",
   "version": "3.12.0"
  }
 },
 "nbformat": 4,
 "nbformat_minor": 5
}
